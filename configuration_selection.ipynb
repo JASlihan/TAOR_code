{
 "cells": [
  {
   "cell_type": "code",
   "execution_count": 1,
   "metadata": {},
   "outputs": [],
   "source": [
    "## Get the box configuration for each capacity\n",
    "def get_box_configuration(capacity):\n",
    "    '''\n",
    "    Input: capacity for the box\n",
    "    Output: configuration set for the box with the inpt capacity\n",
    "    '''\n",
    "    total_box=[]\n",
    "    for a in range(0,capacity+1):\n",
    "        for b in range(0,capacity+1-a):\n",
    "            c=capacity-a-b\n",
    "            total_box.append(([a,b,c]))\n",
    "    output=[]\n",
    "    for i in total_box:\n",
    "        if i not in output:\n",
    "            output.append(i)\n",
    "    return(output)"
   ]
  },
  {
   "cell_type": "code",
   "execution_count": 2,
   "metadata": {},
   "outputs": [],
   "source": [
    "import numpy as np\n",
    "def get_configuration_for_h(h,capacity):\n",
    "    '''\n",
    "    Input: h the number of congifuration combination we select for each box capacity\n",
    "            capacity means the box capacity\n",
    "    output: the best h congifuration combination for fixed box capacity\n",
    "    '''\n",
    "    size_distribution=[0.3,0.5,0.2]\n",
    "    ## Compute the SSD for each combination\n",
    "    total_SSD=[]\n",
    "    for i in get_box_configuration(capacity):\n",
    "        SSD=0\n",
    "        for j in range(len(i)):\n",
    "            SSD+=(i[j]/sum(i)-size_distribution[j])**2\n",
    "        total_SSD.append(SSD)\n",
    "    ## find the index for total_SSD in ascending order\n",
    "    index=np.argsort(total_SSD).tolist()\n",
    "    ## Construct an empty list to store the selected configuration\n",
    "    selected=[]\n",
    "    for i in range(h):\n",
    "        selected.append(get_box_configuration(capacity)[index[i]])\n",
    "    return(selected)"
   ]
  },
  {
   "cell_type": "code",
   "execution_count": 4,
   "metadata": {},
   "outputs": [
    {
     "data": {
      "text/plain": [
       "10"
      ]
     },
     "execution_count": 4,
     "metadata": {},
     "output_type": "execute_result"
    }
   ],
   "source": [
    "final_configuration_set=[]\n",
    "\n",
    "length_for_capacity=[]\n",
    "for i in range(3,21):\n",
    "    length_for_capacity.append(len(get_box_configuration(i)))\n",
    "\n",
    "# Find the max number we can set for h\n",
    "max_h=min(length_for_capacity)\n",
    "max_h"
   ]
  },
  {
   "cell_type": "code",
   "execution_count": 5,
   "metadata": {},
   "outputs": [
    {
     "data": {
      "text/plain": [
       "[[[1, 1, 1], [1, 2, 0]],\n",
       " [[1, 2, 1], [2, 2, 0]],\n",
       " [[1, 3, 1], [2, 2, 1]],\n",
       " [[2, 3, 1], [1, 3, 2]],\n",
       " [[2, 4, 1], [2, 3, 2]],\n",
       " [[2, 4, 2], [3, 4, 1]],\n",
       " [[3, 4, 2], [2, 5, 2]],\n",
       " [[3, 5, 2], [2, 5, 3]],\n",
       " [[3, 6, 2], [4, 5, 2]],\n",
       " [[4, 6, 2], [3, 6, 3]],\n",
       " [[4, 6, 3], [4, 7, 2]],\n",
       " [[4, 7, 3], [5, 7, 2]],\n",
       " [[5, 7, 3], [4, 8, 3]],\n",
       " [[5, 8, 3], [4, 8, 4]],\n",
       " [[5, 9, 3], [5, 8, 4]],\n",
       " [[5, 9, 4], [6, 9, 3]],\n",
       " [[6, 9, 4], [5, 10, 4]],\n",
       " [[6, 10, 4], [7, 9, 4]]]"
      ]
     },
     "execution_count": 5,
     "metadata": {},
     "output_type": "execute_result"
    }
   ],
   "source": [
    "final_configuration_set=[]\n",
    "\n",
    "for i in range(3,21):\n",
    "    final_configuration_set.append(get_configuration_for_h(2,i))\n",
    "final_configuration_set"
   ]
  }
 ],
 "metadata": {
  "kernelspec": {
   "display_name": "Python 3",
   "language": "python",
   "name": "python3"
  },
  "language_info": {
   "codemirror_mode": {
    "name": "ipython",
    "version": 3
   },
   "file_extension": ".py",
   "mimetype": "text/x-python",
   "name": "python",
   "nbconvert_exporter": "python",
   "pygments_lexer": "ipython3",
   "version": "3.7.4"
  }
 },
 "nbformat": 4,
 "nbformat_minor": 2
}
