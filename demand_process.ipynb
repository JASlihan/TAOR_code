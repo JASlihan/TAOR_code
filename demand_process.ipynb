{
 "cells": [
  {
   "cell_type": "markdown",
   "metadata": {},
   "source": [
    "# Generate exponential parameters"
   ]
  },
  {
   "cell_type": "code",
   "execution_count": 5,
   "metadata": {},
   "outputs": [],
   "source": [
    "random.seed(1)\n",
    "low=[]\n",
    "low_parameter=[]\n",
    "medium=[]\n",
    "medium_parameter=[]\n",
    "high=[]\n",
    "high_parameter=[]\n",
    "## Prosperous areas\n",
    "for i in range(5):\n",
    "    high.append(random.uniform(1000,2000))\n",
    "    high_parameter.append(round((1/high[i])*60,2)) ## convert to minutes \n",
    "## Noraml areas\n",
    "for i in range(3):\n",
    "    medium.append(random.uniform(600,1000))\n",
    "    medium_parameter.append(round((1/medium[i])*60,2)) \n",
    "## Remoted areas\n",
    "for i in range(2):\n",
    "    low.append(random.uniform(400,600))\n",
    "    low_parameter.append(round((1/low[i])*60,2))"
   ]
  },
  {
   "cell_type": "code",
   "execution_count": 6,
   "metadata": {},
   "outputs": [
    {
     "data": {
      "text/plain": [
       "[0.14, 0.15]"
      ]
     },
     "execution_count": 6,
     "metadata": {},
     "output_type": "execute_result"
    }
   ],
   "source": [
    "low_parameter"
   ]
  },
  {
   "cell_type": "code",
   "execution_count": 7,
   "metadata": {},
   "outputs": [
    {
     "data": {
      "text/plain": [
       "[0.08, 0.07, 0.07]"
      ]
     },
     "execution_count": 7,
     "metadata": {},
     "output_type": "execute_result"
    }
   ],
   "source": [
    "medium_parameter"
   ]
  },
  {
   "cell_type": "code",
   "execution_count": 8,
   "metadata": {},
   "outputs": [
    {
     "data": {
      "text/plain": [
       "[0.05, 0.03, 0.03, 0.05, 0.04]"
      ]
     },
     "execution_count": 8,
     "metadata": {},
     "output_type": "execute_result"
    }
   ],
   "source": [
    "high_parameter"
   ]
  },
  {
   "cell_type": "markdown",
   "metadata": {},
   "source": [
    "# Demand Estimation"
   ]
  },
  {
   "cell_type": "code",
   "execution_count": 12,
   "metadata": {},
   "outputs": [
    {
     "name": "stdout",
     "output_type": "stream",
     "text": [
      "1375\n"
     ]
    }
   ],
   "source": [
    "## Generated from simul8\n",
    "store_demand =[51,85,73,49,73,35,43,35,26,13,71,77,39,41,85,34,31,30,26,20,41,45,79,52,65,24,45,43,22,22]\n",
    "contribution=[]\n",
    "for i in store_demand:\n",
    "    contribution.append(i/sum(store_demand))\n",
    "## Initial production is the total_demand\n",
    "total_demand=sum(store_demand)\n",
    "print(total_demand)"
   ]
  },
  {
   "cell_type": "code",
   "execution_count": 13,
   "metadata": {},
   "outputs": [],
   "source": [
    "import numpy as np\n",
    "proportion = contribution\n",
    "## Compute the production for each item \n",
    "production = [round(total_demand*0.3),round(total_demand*0.5),round(total_demand*0.2)]\n",
    "demand = np.zeros((len(production),len(proportion)))\n",
    "## Generate the item demand for each store\n",
    "for i in range(len(production)):\n",
    "    for j in range(len(proportion)):\n",
    "        demand[i,j]=production[i]*proportion[j]"
   ]
  },
  {
   "cell_type": "code",
   "execution_count": 14,
   "metadata": {},
   "outputs": [
    {
     "data": {
      "text/plain": [
       "(3, 30)"
      ]
     },
     "execution_count": 14,
     "metadata": {},
     "output_type": "execute_result"
    }
   ],
   "source": [
    "np.shape(demand)"
   ]
  },
  {
   "cell_type": "code",
   "execution_count": 20,
   "metadata": {},
   "outputs": [],
   "source": [
    "## Round up the demand \n",
    "for i in range(np.shape(demand)[0]):\n",
    "    for j in range(np.shape(demand)[1]):\n",
    "        demand[i,j]=np.ceil(demand[i,j])"
   ]
  },
  {
   "cell_type": "code",
   "execution_count": 21,
   "metadata": {},
   "outputs": [
    {
     "data": {
      "text/plain": [
       "array([[16., 26., 22., 15., 22., 11., 13., 11.,  8.,  4., 22., 24., 12.,\n",
       "        13., 26., 11., 10.,  9.,  8.,  6., 13., 14., 24., 16., 20.,  8.,\n",
       "        14., 13.,  7.,  7.],\n",
       "       [26., 43., 37., 25., 37., 18., 22., 18., 14.,  7., 36., 39., 20.,\n",
       "        21., 43., 18., 16., 16., 14., 11., 21., 23., 40., 27., 33., 13.,\n",
       "        23., 22., 12., 12.],\n",
       "       [11., 17., 15., 10., 15.,  7.,  9.,  7.,  6.,  3., 15., 16.,  8.,\n",
       "         9., 17.,  7.,  7.,  7.,  6.,  4.,  9.,  9., 16., 11., 13.,  5.,\n",
       "         9.,  9.,  5.,  5.]])"
      ]
     },
     "execution_count": 21,
     "metadata": {},
     "output_type": "execute_result"
    }
   ],
   "source": [
    "demand"
   ]
  },
  {
   "cell_type": "code",
   "execution_count": 22,
   "metadata": {},
   "outputs": [
    {
     "name": "stdout",
     "output_type": "stream",
     "text": [
      "425.0\n",
      "707.0\n",
      "287.0\n"
     ]
    }
   ],
   "source": [
    "# for s \n",
    "print(sum(demand[0]))\n",
    "# for m\n",
    "print(sum(demand[1]))\n",
    "# for l\n",
    "print(sum(demand[2]))"
   ]
  },
  {
   "cell_type": "code",
   "execution_count": 18,
   "metadata": {},
   "outputs": [
    {
     "data": {
      "text/plain": [
       "1419.0"
      ]
     },
     "execution_count": 18,
     "metadata": {},
     "output_type": "execute_result"
    }
   ],
   "source": [
    "sum(sum(demand))"
   ]
  },
  {
   "cell_type": "code",
   "execution_count": 19,
   "metadata": {},
   "outputs": [],
   "source": [
    "with open('demand_data.txt','w') as f:\n",
    "    for i in demand:\n",
    "        for j in i:\n",
    "            f.write(str(j))\n",
    "            f.write(' ')"
   ]
  }
 ],
 "metadata": {
  "kernelspec": {
   "display_name": "Python 3",
   "language": "python",
   "name": "python3"
  },
  "language_info": {
   "codemirror_mode": {
    "name": "ipython",
    "version": 3
   },
   "file_extension": ".py",
   "mimetype": "text/x-python",
   "name": "python",
   "nbconvert_exporter": "python",
   "pygments_lexer": "ipython3",
   "version": "3.7.4"
  }
 },
 "nbformat": 4,
 "nbformat_minor": 2
}
